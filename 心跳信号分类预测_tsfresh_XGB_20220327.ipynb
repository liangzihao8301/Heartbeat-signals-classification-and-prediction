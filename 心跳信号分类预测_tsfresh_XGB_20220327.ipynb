{
 "cells": [
  {
   "cell_type": "code",
   "execution_count": null,
   "metadata": {},
   "outputs": [],
   "source": [
    "#CatBoost训练10000次\n",
    "#2791.6345\n",
    "#CatBoost训练1000次\n",
    "#16044.4139\n",
    "#CatBoost训练30000次\n",
    "#2326.2931\n",
    "#tsfresh, XGBoost，n_estimators=2000\n",
    "#547.0449\n",
    "#tsfresh, XGBoost, n_estimators=2000，最大值转为1，其他为0\n",
    "#376.0000\n",
    "#tsfresh, XGBoost, n_estimators=2500，最大值转为1，其他为0\n",
    "#364.0000"
   ]
  },
  {
   "cell_type": "code",
   "execution_count": null,
   "metadata": {},
   "outputs": [],
   "source": [
    "import sys\n",
    "sys.path.append('/home/aistudio/external-libraries/catboost103')\n",
    "sys.path.append('/home/aistudio/external-libraries/ipywidgets')\n",
    "sys.path.append('/home/aistudio/external-libraries/bayesian-optimization')\n",
    "sys.path.append('/home/aistudio/external-libraries/toad')\n",
    "sys.path.append('/home/aistudio/external-libraries/pandas-profiling')\n",
    "sys.path.append('/home/aistudio/external-libraries/tsfresh')"
   ]
  },
  {
   "cell_type": "code",
   "execution_count": null,
   "metadata": {},
   "outputs": [],
   "source": [
    "import numpy as np\n",
    "import pandas as pd\n",
    "import pickle\n",
    "%matplotlib inline\n",
    "import matplotlib # 注意这个也要import一次\n",
    "import matplotlib.pyplot as plt\n",
    "import seaborn as sns\n",
    "from sklearn.preprocessing import LabelEncoder\n",
    "from sklearn import metrics\n",
    "from sklearn.metrics import roc_auc_score, accuracy_score, recall_score, mean_squared_error, roc_curve, auc\n",
    "from sklearn.model_selection import train_test_split\n",
    "import gc\n",
    "\n",
    "\n",
    "import warnings\n",
    "warnings.filterwarnings(\"ignore\")"
   ]
  },
  {
   "cell_type": "code",
   "execution_count": null,
   "metadata": {},
   "outputs": [],
   "source": [
    "train_data = pd.read_csv('./data/data133887/train.csv')\n",
    "test_data = pd.read_csv('./data/data133887/testA.csv')"
   ]
  },
  {
   "cell_type": "code",
   "execution_count": null,
   "metadata": {},
   "outputs": [],
   "source": [
    "data = pd.concat((train_data, test_data))"
   ]
  },
  {
   "cell_type": "code",
   "execution_count": null,
   "metadata": {},
   "outputs": [
    {
     "data": {
      "text/plain": [
       "Index(['id', 'heartbeat_signals', 'label'], dtype='object')"
      ]
     },
     "execution_count": null,
     "metadata": {},
     "output_type": "execute_result"
    }
   ],
   "source": [
    "data.columns"
   ]
  },
  {
   "cell_type": "code",
   "execution_count": null,
   "metadata": {},
   "outputs": [],
   "source": [
    "data = pd.DataFrame(data['heartbeat_signals'].str.split(',').tolist(), index=data['id'], dtype='float')"
   ]
  },
  {
   "cell_type": "code",
   "execution_count": null,
   "metadata": {},
   "outputs": [],
   "source": [
    "data['label'] = train_data['label']"
   ]
  },
  {
   "cell_type": "code",
   "execution_count": null,
   "metadata": {},
   "outputs": [],
   "source": [
    "# data.iloc[:, 0:205] = data.iloc[:, 0:205].astype(float)"
   ]
  },
  {
   "cell_type": "code",
   "execution_count": null,
   "metadata": {},
   "outputs": [
    {
     "data": {
      "text/plain": [
       "[<matplotlib.lines.Line2D at 0x7f916ff4c190>]"
      ]
     },
     "execution_count": null,
     "metadata": {},
     "output_type": "execute_result"
    },
    {
     "data": {
      "image/png": "[encoded data removed]",
      "text/plain": [
       "<Figure size 432x288 with 1 Axes>"
      ]
     },
     "metadata": {},
     "output_type": "display_data"
    }
   ],
   "source": [
    "plt.plot(data.iloc[10, 0:205])"
   ]
  },
  {
   "cell_type": "code",
   "execution_count": null,
   "metadata": {},
   "outputs": [],
   "source": [
    "##保存数据data\n",
    "# with open('./work/features/data.pkl', 'wb') as file:\n",
    "#     pickle.dump(data, file) "
   ]
  },
  {
   "cell_type": "markdown",
   "metadata": {},
   "source": [
    "#### 手动提取特征"
   ]
  },
  {
   "cell_type": "code",
   "execution_count": null,
   "metadata": {},
   "outputs": [],
   "source": [
    "data_des = data.drop(['isDefault'], axis=1).T.describe().T"
   ]
  },
  {
   "cell_type": "code",
   "execution_count": null,
   "metadata": {},
   "outputs": [],
   "source": [
    "data_des.drop(['count'], axis=1, inplace=True)"
   ]
  },
  {
   "cell_type": "code",
   "execution_count": null,
   "metadata": {},
   "outputs": [],
   "source": [
    "##保存数据data_des\n",
    "# with open('./work/features/data_des.pkl', 'wb') as file:\n",
    "#     pickle.dump(data_des, file) "
   ]
  },
  {
   "cell_type": "markdown",
   "metadata": {},
   "source": [
    "### 提取数据"
   ]
  },
  {
   "cell_type": "code",
   "execution_count": null,
   "metadata": {},
   "outputs": [],
   "source": [
    "# with open('./work/features/data.pkl', 'rb') as file:\n",
    "#     data = pickle.load(file)\n",
    "\n",
    "# with open('./work/features/data_des.pkl', 'rb') as file:\n",
    "#     data_des = pickle.load(file)"
   ]
  },
  {
   "cell_type": "code",
   "execution_count": null,
   "metadata": {},
   "outputs": [],
   "source": [
    "# data = pd.merge(data, data_des, left_index=True, right_index=True)\n",
    "# del data_des"
   ]
  },
  {
   "cell_type": "code",
   "execution_count": null,
   "metadata": {},
   "outputs": [
    {
     "data": {
      "text/html": [
       "<div>\n",
       "<style scoped>\n",
       "    .dataframe tbody tr th:only-of-type {\n",
       "        vertical-align: middle;\n",
       "    }\n",
       "\n",
       "    .dataframe tbody tr th {\n",
       "        vertical-align: top;\n",
       "    }\n",
       "\n",
       "    .dataframe thead th {\n",
       "        text-align: right;\n",
       "    }\n",
       "</style>\n",
       "<table border=\"1\" class=\"dataframe\">\n",
       "  <thead>\n",
       "    <tr style=\"text-align: right;\">\n",
       "      <th></th>\n",
       "      <th>0</th>\n",
       "      <th>1</th>\n",
       "      <th>2</th>\n",
       "      <th>3</th>\n",
       "      <th>4</th>\n",
       "      <th>5</th>\n",
       "      <th>6</th>\n",
       "      <th>7</th>\n",
       "      <th>8</th>\n",
       "      <th>9</th>\n",
       "      <th>...</th>\n",
       "      <th>196</th>\n",
       "      <th>197</th>\n",
       "      <th>198</th>\n",
       "      <th>199</th>\n",
       "      <th>200</th>\n",
       "      <th>201</th>\n",
       "      <th>202</th>\n",
       "      <th>203</th>\n",
       "      <th>204</th>\n",
       "      <th>label</th>\n",
       "    </tr>\n",
       "    <tr>\n",
       "      <th>id</th>\n",
       "      <th></th>\n",
       "      <th></th>\n",
       "      <th></th>\n",
       "      <th></th>\n",
       "      <th></th>\n",
       "      <th></th>\n",
       "      <th></th>\n",
       "      <th></th>\n",
       "      <th></th>\n",
       "      <th></th>\n",
       "      <th></th>\n",
       "      <th></th>\n",
       "      <th></th>\n",
       "      <th></th>\n",
       "      <th></th>\n",
       "      <th></th>\n",
       "      <th></th>\n",
       "      <th></th>\n",
       "      <th></th>\n",
       "      <th></th>\n",
       "      <th></th>\n",
       "    </tr>\n",
       "  </thead>\n",
       "  <tbody>\n",
       "    <tr>\n",
       "      <th>0</th>\n",
       "      <td>0.991230</td>\n",
       "      <td>0.943533</td>\n",
       "      <td>0.764677</td>\n",
       "      <td>0.618571</td>\n",
       "      <td>0.379632</td>\n",
       "      <td>0.190822</td>\n",
       "      <td>0.040237</td>\n",
       "      <td>0.025995</td>\n",
       "      <td>0.031709</td>\n",
       "      <td>0.065524</td>\n",
       "      <td>...</td>\n",
       "      <td>0.0</td>\n",
       "      <td>0.0</td>\n",
       "      <td>0.0</td>\n",
       "      <td>0.0</td>\n",
       "      <td>0.0</td>\n",
       "      <td>0.0</td>\n",
       "      <td>0.0</td>\n",
       "      <td>0.0</td>\n",
       "      <td>0.0</td>\n",
       "      <td>0.0</td>\n",
       "    </tr>\n",
       "    <tr>\n",
       "      <th>1</th>\n",
       "      <td>0.971482</td>\n",
       "      <td>0.928969</td>\n",
       "      <td>0.572933</td>\n",
       "      <td>0.178457</td>\n",
       "      <td>0.122962</td>\n",
       "      <td>0.132360</td>\n",
       "      <td>0.094392</td>\n",
       "      <td>0.089575</td>\n",
       "      <td>0.030481</td>\n",
       "      <td>0.040499</td>\n",
       "      <td>...</td>\n",
       "      <td>0.0</td>\n",
       "      <td>0.0</td>\n",
       "      <td>0.0</td>\n",
       "      <td>0.0</td>\n",
       "      <td>0.0</td>\n",
       "      <td>0.0</td>\n",
       "      <td>0.0</td>\n",
       "      <td>0.0</td>\n",
       "      <td>0.0</td>\n",
       "      <td>0.0</td>\n",
       "    </tr>\n",
       "    <tr>\n",
       "      <th>2</th>\n",
       "      <td>1.000000</td>\n",
       "      <td>0.959149</td>\n",
       "      <td>0.701378</td>\n",
       "      <td>0.231778</td>\n",
       "      <td>0.000000</td>\n",
       "      <td>0.080698</td>\n",
       "      <td>0.128376</td>\n",
       "      <td>0.187448</td>\n",
       "      <td>0.280826</td>\n",
       "      <td>0.328261</td>\n",
       "      <td>...</td>\n",
       "      <td>0.0</td>\n",
       "      <td>0.0</td>\n",
       "      <td>0.0</td>\n",
       "      <td>0.0</td>\n",
       "      <td>0.0</td>\n",
       "      <td>0.0</td>\n",
       "      <td>0.0</td>\n",
       "      <td>0.0</td>\n",
       "      <td>0.0</td>\n",
       "      <td>2.0</td>\n",
       "    </tr>\n",
       "    <tr>\n",
       "      <th>3</th>\n",
       "      <td>0.975795</td>\n",
       "      <td>0.934088</td>\n",
       "      <td>0.659637</td>\n",
       "      <td>0.249921</td>\n",
       "      <td>0.237116</td>\n",
       "      <td>0.281445</td>\n",
       "      <td>0.249921</td>\n",
       "      <td>0.249921</td>\n",
       "      <td>0.241397</td>\n",
       "      <td>0.230670</td>\n",
       "      <td>...</td>\n",
       "      <td>0.0</td>\n",
       "      <td>0.0</td>\n",
       "      <td>0.0</td>\n",
       "      <td>0.0</td>\n",
       "      <td>0.0</td>\n",
       "      <td>0.0</td>\n",
       "      <td>0.0</td>\n",
       "      <td>0.0</td>\n",
       "      <td>0.0</td>\n",
       "      <td>0.0</td>\n",
       "    </tr>\n",
       "    <tr>\n",
       "      <th>4</th>\n",
       "      <td>0.000000</td>\n",
       "      <td>0.055816</td>\n",
       "      <td>0.261294</td>\n",
       "      <td>0.359847</td>\n",
       "      <td>0.433143</td>\n",
       "      <td>0.453698</td>\n",
       "      <td>0.499004</td>\n",
       "      <td>0.542796</td>\n",
       "      <td>0.616904</td>\n",
       "      <td>0.676696</td>\n",
       "      <td>...</td>\n",
       "      <td>0.0</td>\n",
       "      <td>0.0</td>\n",
       "      <td>0.0</td>\n",
       "      <td>0.0</td>\n",
       "      <td>0.0</td>\n",
       "      <td>0.0</td>\n",
       "      <td>0.0</td>\n",
       "      <td>0.0</td>\n",
       "      <td>0.0</td>\n",
       "      <td>2.0</td>\n",
       "    </tr>\n",
       "    <tr>\n",
       "      <th>...</th>\n",
       "      <td>...</td>\n",
       "      <td>...</td>\n",
       "      <td>...</td>\n",
       "      <td>...</td>\n",
       "      <td>...</td>\n",
       "      <td>...</td>\n",
       "      <td>...</td>\n",
       "      <td>...</td>\n",
       "      <td>...</td>\n",
       "      <td>...</td>\n",
       "      <td>...</td>\n",
       "      <td>...</td>\n",
       "      <td>...</td>\n",
       "      <td>...</td>\n",
       "      <td>...</td>\n",
       "      <td>...</td>\n",
       "      <td>...</td>\n",
       "      <td>...</td>\n",
       "      <td>...</td>\n",
       "      <td>...</td>\n",
       "      <td>...</td>\n",
       "    </tr>\n",
       "    <tr>\n",
       "      <th>119995</th>\n",
       "      <td>1.000000</td>\n",
       "      <td>0.833028</td>\n",
       "      <td>0.634047</td>\n",
       "      <td>0.639118</td>\n",
       "      <td>0.623852</td>\n",
       "      <td>0.598042</td>\n",
       "      <td>0.613583</td>\n",
       "      <td>0.623852</td>\n",
       "      <td>0.628958</td>\n",
       "      <td>0.623852</td>\n",
       "      <td>...</td>\n",
       "      <td>0.0</td>\n",
       "      <td>0.0</td>\n",
       "      <td>0.0</td>\n",
       "      <td>0.0</td>\n",
       "      <td>0.0</td>\n",
       "      <td>0.0</td>\n",
       "      <td>0.0</td>\n",
       "      <td>0.0</td>\n",
       "      <td>0.0</td>\n",
       "      <td>NaN</td>\n",
       "    </tr>\n",
       "    <tr>\n",
       "      <th>119996</th>\n",
       "      <td>1.000000</td>\n",
       "      <td>0.825971</td>\n",
       "      <td>0.452105</td>\n",
       "      <td>0.082227</td>\n",
       "      <td>0.000000</td>\n",
       "      <td>0.137119</td>\n",
       "      <td>0.201082</td>\n",
       "      <td>0.165688</td>\n",
       "      <td>0.158125</td>\n",
       "      <td>0.165688</td>\n",
       "      <td>...</td>\n",
       "      <td>0.0</td>\n",
       "      <td>0.0</td>\n",
       "      <td>0.0</td>\n",
       "      <td>0.0</td>\n",
       "      <td>0.0</td>\n",
       "      <td>0.0</td>\n",
       "      <td>0.0</td>\n",
       "      <td>0.0</td>\n",
       "      <td>0.0</td>\n",
       "      <td>NaN</td>\n",
       "    </tr>\n",
       "    <tr>\n",
       "      <th>119997</th>\n",
       "      <td>0.951745</td>\n",
       "      <td>0.916261</td>\n",
       "      <td>0.667525</td>\n",
       "      <td>0.351985</td>\n",
       "      <td>0.255330</td>\n",
       "      <td>0.197383</td>\n",
       "      <td>0.173536</td>\n",
       "      <td>0.141934</td>\n",
       "      <td>0.134542</td>\n",
       "      <td>0.127112</td>\n",
       "      <td>...</td>\n",
       "      <td>0.0</td>\n",
       "      <td>0.0</td>\n",
       "      <td>0.0</td>\n",
       "      <td>0.0</td>\n",
       "      <td>0.0</td>\n",
       "      <td>0.0</td>\n",
       "      <td>0.0</td>\n",
       "      <td>0.0</td>\n",
       "      <td>0.0</td>\n",
       "      <td>NaN</td>\n",
       "    </tr>\n",
       "    <tr>\n",
       "      <th>119998</th>\n",
       "      <td>0.927669</td>\n",
       "      <td>0.677190</td>\n",
       "      <td>0.242906</td>\n",
       "      <td>0.055362</td>\n",
       "      <td>0.102120</td>\n",
       "      <td>0.072236</td>\n",
       "      <td>0.021010</td>\n",
       "      <td>0.038288</td>\n",
       "      <td>0.048557</td>\n",
       "      <td>0.017530</td>\n",
       "      <td>...</td>\n",
       "      <td>0.0</td>\n",
       "      <td>0.0</td>\n",
       "      <td>0.0</td>\n",
       "      <td>0.0</td>\n",
       "      <td>0.0</td>\n",
       "      <td>0.0</td>\n",
       "      <td>0.0</td>\n",
       "      <td>0.0</td>\n",
       "      <td>0.0</td>\n",
       "      <td>NaN</td>\n",
       "    </tr>\n",
       "    <tr>\n",
       "      <th>119999</th>\n",
       "      <td>0.665321</td>\n",
       "      <td>0.527064</td>\n",
       "      <td>0.516663</td>\n",
       "      <td>0.376442</td>\n",
       "      <td>0.489262</td>\n",
       "      <td>0.480725</td>\n",
       "      <td>0.459160</td>\n",
       "      <td>0.482864</td>\n",
       "      <td>0.469983</td>\n",
       "      <td>0.399270</td>\n",
       "      <td>...</td>\n",
       "      <td>0.0</td>\n",
       "      <td>0.0</td>\n",
       "      <td>0.0</td>\n",
       "      <td>0.0</td>\n",
       "      <td>0.0</td>\n",
       "      <td>0.0</td>\n",
       "      <td>0.0</td>\n",
       "      <td>0.0</td>\n",
       "      <td>0.0</td>\n",
       "      <td>NaN</td>\n",
       "    </tr>\n",
       "  </tbody>\n",
       "</table>\n",
       "<p>120000 rows × 206 columns</p>\n",
       "</div>"
      ],
      "text/plain": [
       "               0         1         2         3         4         5         6  \\\n",
       "id                                                                             \n",
       "0       0.991230  0.943533  0.764677  0.618571  0.379632  0.190822  0.040237   \n",
       "1       0.971482  0.928969  0.572933  0.178457  0.122962  0.132360  0.094392   \n",
       "2       1.000000  0.959149  0.701378  0.231778  0.000000  0.080698  0.128376   \n",
       "3       0.975795  0.934088  0.659637  0.249921  0.237116  0.281445  0.249921   \n",
       "4       0.000000  0.055816  0.261294  0.359847  0.433143  0.453698  0.499004   \n",
       "...          ...       ...       ...       ...       ...       ...       ...   \n",
       "119995  1.000000  0.833028  0.634047  0.639118  0.623852  0.598042  0.613583   \n",
       "119996  1.000000  0.825971  0.452105  0.082227  0.000000  0.137119  0.201082   \n",
       "119997  0.951745  0.916261  0.667525  0.351985  0.255330  0.197383  0.173536   \n",
       "119998  0.927669  0.677190  0.242906  0.055362  0.102120  0.072236  0.021010   \n",
       "119999  0.665321  0.527064  0.516663  0.376442  0.489262  0.480725  0.459160   \n",
       "\n",
       "               7         8         9  ...  196  197  198  199  200  201  202  \\\n",
       "id                                    ...                                      \n",
       "0       0.025995  0.031709  0.065524  ...  0.0  0.0  0.0  0.0  0.0  0.0  0.0   \n",
       "1       0.089575  0.030481  0.040499  ...  0.0  0.0  0.0  0.0  0.0  0.0  0.0   \n",
       "2       0.187448  0.280826  0.328261  ...  0.0  0.0  0.0  0.0  0.0  0.0  0.0   \n",
       "3       0.249921  0.241397  0.230670  ...  0.0  0.0  0.0  0.0  0.0  0.0  0.0   \n",
       "4       0.542796  0.616904  0.676696  ...  0.0  0.0  0.0  0.0  0.0  0.0  0.0   \n",
       "...          ...       ...       ...  ...  ...  ...  ...  ...  ...  ...  ...   \n",
       "119995  0.623852  0.628958  0.623852  ...  0.0  0.0  0.0  0.0  0.0  0.0  0.0   \n",
       "119996  0.165688  0.158125  0.165688  ...  0.0  0.0  0.0  0.0  0.0  0.0  0.0   \n",
       "119997  0.141934  0.134542  0.127112  ...  0.0  0.0  0.0  0.0  0.0  0.0  0.0   \n",
       "119998  0.038288  0.048557  0.017530  ...  0.0  0.0  0.0  0.0  0.0  0.0  0.0   \n",
       "119999  0.482864  0.469983  0.399270  ...  0.0  0.0  0.0  0.0  0.0  0.0  0.0   \n",
       "\n",
       "        203  204  label  \n",
       "id                       \n",
       "0       0.0  0.0    0.0  \n",
       "1       0.0  0.0    0.0  \n",
       "2       0.0  0.0    2.0  \n",
       "3       0.0  0.0    0.0  \n",
       "4       0.0  0.0    2.0  \n",
       "...     ...  ...    ...  \n",
       "119995  0.0  0.0    NaN  \n",
       "119996  0.0  0.0    NaN  \n",
       "119997  0.0  0.0    NaN  \n",
       "119998  0.0  0.0    NaN  \n",
       "119999  0.0  0.0    NaN  \n",
       "\n",
       "[120000 rows x 206 columns]"
      ]
     },
     "execution_count": null,
     "metadata": {},
     "output_type": "execute_result"
    }
   ],
   "source": [
    "data"
   ]
  },
  {
   "cell_type": "code",
   "execution_count": null,
   "metadata": {},
   "outputs": [],
   "source": [
    "data.reset_index(inplace=True)"
   ]
  },
  {
   "cell_type": "code",
   "execution_count": null,
   "metadata": {},
   "outputs": [],
   "source": [
    "#切分数据\n",
    "X_train = data[data['label'].notnull()].drop(['label'], axis=1)\n",
    "y_train = data[data['label'].notnull()]['label']\n",
    "\n",
    "X_test = data[data['label'].isnull()].drop(['label'], axis=1)"
   ]
  },
  {
   "cell_type": "code",
   "execution_count": null,
   "metadata": {},
   "outputs": [],
   "source": [
    "X_train_m = X_train.melt(id_vars=['id'], #value_vars=[range(0, 205)],\n",
    "                       var_name='time', value_name='heartbeat_signals', \n",
    "                       ignore_index=False).sort_values(by=['id', 'time'], ascending=True)\n",
    "\n",
    "X_test_m = X_test.melt(id_vars=['id'], #value_vars=[range(0, 205)],\n",
    "                     var_name='time', value_name='heartbeat_signals',\n",
    "                     ignore_index=False).sort_values(by=['id', 'time'], ascending=True)"
   ]
  },
  {
   "cell_type": "code",
   "execution_count": null,
   "metadata": {},
   "outputs": [],
   "source": [
    "%matplotlib inline\n",
    "\n",
    "import matplotlib.pylab as plt\n",
    "\n",
    "from tsfresh import extract_features, extract_relevant_features, select_features\n",
    "from tsfresh.utilities.dataframe_functions import impute\n",
    "from tsfresh.feature_extraction import ComprehensiveFCParameters\n",
    "\n",
    "from sklearn.tree import DecisionTreeClassifier\n",
    "from sklearn.model_selection import train_test_split\n",
    "from sklearn.metrics import classification_report"
   ]
  },
  {
   "cell_type": "code",
   "execution_count": null,
   "metadata": {},
   "outputs": [],
   "source": [
    "extraction_settings = ComprehensiveFCParameters()\n",
    "batch_size = 2000\n",
    "sample_len = 205"
   ]
  },
  {
   "cell_type": "code",
   "execution_count": null,
   "metadata": {},
   "outputs": [
    {
     "name": "stdout",
     "output_type": "stream",
     "text": [
      "start_ids:0, end_ids:410000\n"
     ]
    },
    {
     "name": "stderr",
     "output_type": "stream",
     "text": [
      "Feature Extraction: 100%|██████████| 59/59 [00:57<00:00,  2.53it/s]\n"
     ]
    },
    {
     "name": "stdout",
     "output_type": "stream",
     "text": [
      "start_ids:410000, end_ids:820000\n"
     ]
    },
    {
     "name": "stderr",
     "output_type": "stream",
     "text": [
      "Feature Extraction: 100%|██████████| 59/59 [00:57<00:00,  2.00it/s]\n"
     ]
    },
    {
     "name": "stdout",
     "output_type": "stream",
     "text": [
      "start_ids:820000, end_ids:1230000\n"
     ]
    },
    {
     "name": "stderr",
     "output_type": "stream",
     "text": [
      "Feature Extraction: 100%|██████████| 59/59 [00:58<00:00,  1.50it/s]\n"
     ]
    },
    {
     "name": "stdout",
     "output_type": "stream",
     "text": [
      "start_ids:1230000, end_ids:1640000\n"
     ]
    },
    {
     "name": "stderr",
     "output_type": "stream",
     "text": [
      "Feature Extraction: 100%|██████████| 59/59 [00:59<00:00,  2.02it/s]\n"
     ]
    },
    {
     "name": "stdout",
     "output_type": "stream",
     "text": [
      "start_ids:1640000, end_ids:2050000\n"
     ]
    },
    {
     "name": "stderr",
     "output_type": "stream",
     "text": [
      "Feature Extraction: 100%|██████████| 59/59 [00:57<00:00,  1.02it/s]\n"
     ]
    },
    {
     "name": "stdout",
     "output_type": "stream",
     "text": [
      "start_ids:2050000, end_ids:2460000\n"
     ]
    },
    {
     "name": "stderr",
     "output_type": "stream",
     "text": [
      "Feature Extraction: 100%|██████████| 59/59 [00:59<00:00,  1.00s/it]\n"
     ]
    },
    {
     "name": "stdout",
     "output_type": "stream",
     "text": [
      "start_ids:2460000, end_ids:2870000\n"
     ]
    },
    {
     "name": "stderr",
     "output_type": "stream",
     "text": [
      "Feature Extraction: 100%|██████████| 59/59 [01:00<00:00,  2.35it/s]\n"
     ]
    },
    {
     "name": "stdout",
     "output_type": "stream",
     "text": [
      "start_ids:2870000, end_ids:3280000\n"
     ]
    },
    {
     "name": "stderr",
     "output_type": "stream",
     "text": [
      "Feature Extraction: 100%|██████████| 59/59 [00:58<00:00,  2.98it/s]\n"
     ]
    },
    {
     "name": "stdout",
     "output_type": "stream",
     "text": [
      "start_ids:3280000, end_ids:3690000\n"
     ]
    },
    {
     "name": "stderr",
     "output_type": "stream",
     "text": [
      "Feature Extraction: 100%|██████████| 59/59 [00:56<00:00,  1.79it/s]\n"
     ]
    },
    {
     "name": "stdout",
     "output_type": "stream",
     "text": [
      "start_ids:3690000, end_ids:4100000\n"
     ]
    },
    {
     "name": "stderr",
     "output_type": "stream",
     "text": [
      "Feature Extraction: 100%|██████████| 59/59 [00:56<00:00,  1.04it/s]\n"
     ]
    },
    {
     "name": "stdout",
     "output_type": "stream",
     "text": [
      "start_ids:4100000, end_ids:4510000\n"
     ]
    },
    {
     "name": "stderr",
     "output_type": "stream",
     "text": [
      "Feature Extraction: 100%|██████████| 59/59 [00:57<00:00,  1.03it/s]\n"
     ]
    },
    {
     "name": "stdout",
     "output_type": "stream",
     "text": [
      "start_ids:4510000, end_ids:4920000\n"
     ]
    },
    {
     "name": "stderr",
     "output_type": "stream",
     "text": [
      "Feature Extraction: 100%|██████████| 59/59 [00:56<00:00,  2.06it/s]\n"
     ]
    },
    {
     "name": "stdout",
     "output_type": "stream",
     "text": [
      "start_ids:4920000, end_ids:5330000\n"
     ]
    },
    {
     "name": "stderr",
     "output_type": "stream",
     "text": [
      "Feature Extraction: 100%|██████████| 59/59 [00:56<00:00,  2.48it/s]\n"
     ]
    },
    {
     "name": "stdout",
     "output_type": "stream",
     "text": [
      "start_ids:5330000, end_ids:5740000\n"
     ]
    },
    {
     "name": "stderr",
     "output_type": "stream",
     "text": [
      "Feature Extraction: 100%|██████████| 59/59 [00:57<00:00,  1.84it/s]\n"
     ]
    },
    {
     "name": "stdout",
     "output_type": "stream",
     "text": [
      "start_ids:5740000, end_ids:6150000\n"
     ]
    },
    {
     "name": "stderr",
     "output_type": "stream",
     "text": [
      "Feature Extraction: 100%|██████████| 59/59 [00:58<00:00,  1.02it/s]\n"
     ]
    },
    {
     "name": "stdout",
     "output_type": "stream",
     "text": [
      "start_ids:6150000, end_ids:6560000\n"
     ]
    },
    {
     "name": "stderr",
     "output_type": "stream",
     "text": [
      "Feature Extraction: 100%|██████████| 59/59 [00:56<00:00,  1.95it/s]\n"
     ]
    },
    {
     "name": "stdout",
     "output_type": "stream",
     "text": [
      "start_ids:6560000, end_ids:6970000\n"
     ]
    },
    {
     "name": "stderr",
     "output_type": "stream",
     "text": [
      "Feature Extraction: 100%|██████████| 59/59 [00:56<00:00,  2.54it/s]\n"
     ]
    },
    {
     "name": "stdout",
     "output_type": "stream",
     "text": [
      "start_ids:6970000, end_ids:7380000\n"
     ]
    },
    {
     "name": "stderr",
     "output_type": "stream",
     "text": [
      "Feature Extraction: 100%|██████████| 59/59 [00:58<00:00,  2.04it/s]\n"
     ]
    },
    {
     "name": "stdout",
     "output_type": "stream",
     "text": [
      "start_ids:7380000, end_ids:7790000\n"
     ]
    },
    {
     "name": "stderr",
     "output_type": "stream",
     "text": [
      "Feature Extraction: 100%|██████████| 59/59 [01:00<00:00,  2.76it/s]\n"
     ]
    },
    {
     "name": "stdout",
     "output_type": "stream",
     "text": [
      "start_ids:7790000, end_ids:8200000\n"
     ]
    },
    {
     "name": "stderr",
     "output_type": "stream",
     "text": [
      "Feature Extraction: 100%|██████████| 59/59 [00:59<00:00,  1.01s/it]\n"
     ]
    },
    {
     "name": "stdout",
     "output_type": "stream",
     "text": [
      "start_ids:8200000, end_ids:8610000\n"
     ]
    },
    {
     "name": "stderr",
     "output_type": "stream",
     "text": [
      "Feature Extraction: 100%|██████████| 59/59 [01:01<00:00,  3.00it/s]\n"
     ]
    },
    {
     "name": "stdout",
     "output_type": "stream",
     "text": [
      "start_ids:8610000, end_ids:9020000\n"
     ]
    },
    {
     "name": "stderr",
     "output_type": "stream",
     "text": [
      "Feature Extraction: 100%|██████████| 59/59 [00:58<00:00,  2.20it/s]\n"
     ]
    },
    {
     "name": "stdout",
     "output_type": "stream",
     "text": [
      "start_ids:9020000, end_ids:9430000\n"
     ]
    },
    {
     "name": "stderr",
     "output_type": "stream",
     "text": [
      "Feature Extraction: 100%|██████████| 59/59 [00:57<00:00,  2.67it/s]\n"
     ]
    },
    {
     "name": "stdout",
     "output_type": "stream",
     "text": [
      "start_ids:9430000, end_ids:9840000\n"
     ]
    },
    {
     "name": "stderr",
     "output_type": "stream",
     "text": [
      "Feature Extraction: 100%|██████████| 59/59 [01:00<00:00,  2.88it/s]\n"
     ]
    },
    {
     "name": "stdout",
     "output_type": "stream",
     "text": [
      "start_ids:9840000, end_ids:10250000\n"
     ]
    },
    {
     "name": "stderr",
     "output_type": "stream",
     "text": [
      "Feature Extraction: 100%|██████████| 59/59 [00:57<00:00,  1.74it/s]\n"
     ]
    },
    {
     "name": "stdout",
     "output_type": "stream",
     "text": [
      "start_ids:10250000, end_ids:10660000\n"
     ]
    },
    {
     "name": "stderr",
     "output_type": "stream",
     "text": [
      "Feature Extraction: 100%|██████████| 59/59 [00:57<00:00,  2.36it/s]\n"
     ]
    },
    {
     "name": "stdout",
     "output_type": "stream",
     "text": [
      "start_ids:10660000, end_ids:11070000\n"
     ]
    },
    {
     "name": "stderr",
     "output_type": "stream",
     "text": [
      "Feature Extraction: 100%|██████████| 59/59 [00:59<00:00,  1.59it/s]\n"
     ]
    },
    {
     "name": "stdout",
     "output_type": "stream",
     "text": [
      "start_ids:11070000, end_ids:11480000\n"
     ]
    },
    {
     "name": "stderr",
     "output_type": "stream",
     "text": [
      "Feature Extraction: 100%|██████████| 59/59 [00:57<00:00,  1.97it/s]\n"
     ]
    },
    {
     "name": "stdout",
     "output_type": "stream",
     "text": [
      "start_ids:11480000, end_ids:11890000\n"
     ]
    },
    {
     "name": "stderr",
     "output_type": "stream",
     "text": [
      "Feature Extraction: 100%|██████████| 59/59 [00:58<00:00,  1.01it/s]\n"
     ]
    },
    {
     "name": "stdout",
     "output_type": "stream",
     "text": [
      "start_ids:11890000, end_ids:12300000\n"
     ]
    },
    {
     "name": "stderr",
     "output_type": "stream",
     "text": [
      "Feature Extraction: 100%|██████████| 59/59 [00:57<00:00,  2.37it/s]\n"
     ]
    },
    {
     "name": "stdout",
     "output_type": "stream",
     "text": [
      "start_ids:12300000, end_ids:12710000\n"
     ]
    },
    {
     "name": "stderr",
     "output_type": "stream",
     "text": [
      "Feature Extraction: 100%|██████████| 59/59 [00:58<00:00,  2.77it/s]\n"
     ]
    },
    {
     "name": "stdout",
     "output_type": "stream",
     "text": [
      "start_ids:12710000, end_ids:13120000\n"
     ]
    },
    {
     "name": "stderr",
     "output_type": "stream",
     "text": [
      "Feature Extraction: 100%|██████████| 59/59 [00:57<00:00,  2.47it/s]\n"
     ]
    },
    {
     "name": "stdout",
     "output_type": "stream",
     "text": [
      "start_ids:13120000, end_ids:13530000\n"
     ]
    },
    {
     "name": "stderr",
     "output_type": "stream",
     "text": [
      "Feature Extraction: 100%|██████████| 59/59 [00:57<00:00,  1.88it/s]\n"
     ]
    },
    {
     "name": "stdout",
     "output_type": "stream",
     "text": [
      "start_ids:13530000, end_ids:13940000\n"
     ]
    },
    {
     "name": "stderr",
     "output_type": "stream",
     "text": [
      "Feature Extraction: 100%|██████████| 59/59 [00:56<00:00,  1.79it/s]\n"
     ]
    },
    {
     "name": "stdout",
     "output_type": "stream",
     "text": [
      "start_ids:13940000, end_ids:14350000\n"
     ]
    },
    {
     "name": "stderr",
     "output_type": "stream",
     "text": [
      "Feature Extraction: 100%|██████████| 59/59 [00:57<00:00,  1.66it/s]\n"
     ]
    },
    {
     "name": "stdout",
     "output_type": "stream",
     "text": [
      "start_ids:14350000, end_ids:14760000\n"
     ]
    },
    {
     "name": "stderr",
     "output_type": "stream",
     "text": [
      "Feature Extraction: 100%|██████████| 59/59 [00:57<00:00,  1.84it/s]\n"
     ]
    },
    {
     "name": "stdout",
     "output_type": "stream",
     "text": [
      "start_ids:14760000, end_ids:15170000\n"
     ]
    },
    {
     "name": "stderr",
     "output_type": "stream",
     "text": [
      "Feature Extraction: 100%|██████████| 59/59 [00:58<00:00,  2.61it/s]\n"
     ]
    },
    {
     "name": "stdout",
     "output_type": "stream",
     "text": [
      "start_ids:15170000, end_ids:15580000\n"
     ]
    },
    {
     "name": "stderr",
     "output_type": "stream",
     "text": [
      "Feature Extraction: 100%|██████████| 59/59 [00:56<00:00,  2.38it/s]\n"
     ]
    },
    {
     "name": "stdout",
     "output_type": "stream",
     "text": [
      "start_ids:15580000, end_ids:15990000\n"
     ]
    },
    {
     "name": "stderr",
     "output_type": "stream",
     "text": [
      "Feature Extraction: 100%|██████████| 59/59 [00:57<00:00,  1.99it/s]\n"
     ]
    },
    {
     "name": "stdout",
     "output_type": "stream",
     "text": [
      "start_ids:15990000, end_ids:16400000\n"
     ]
    },
    {
     "name": "stderr",
     "output_type": "stream",
     "text": [
      "Feature Extraction: 100%|██████████| 59/59 [00:57<00:00,  2.43it/s]\n"
     ]
    },
    {
     "name": "stdout",
     "output_type": "stream",
     "text": [
      "start_ids:16400000, end_ids:16810000\n"
     ]
    },
    {
     "name": "stderr",
     "output_type": "stream",
     "text": [
      "Feature Extraction: 100%|██████████| 59/59 [00:57<00:00,  3.17it/s]\n"
     ]
    },
    {
     "name": "stdout",
     "output_type": "stream",
     "text": [
      "start_ids:16810000, end_ids:17220000\n"
     ]
    },
    {
     "name": "stderr",
     "output_type": "stream",
     "text": [
      "Feature Extraction: 100%|██████████| 59/59 [00:58<00:00,  1.78it/s]\n"
     ]
    },
    {
     "name": "stdout",
     "output_type": "stream",
     "text": [
      "start_ids:17220000, end_ids:17630000\n"
     ]
    },
    {
     "name": "stderr",
     "output_type": "stream",
     "text": [
      "Feature Extraction: 100%|██████████| 59/59 [00:58<00:00,  2.21it/s]\n"
     ]
    },
    {
     "name": "stdout",
     "output_type": "stream",
     "text": [
      "start_ids:17630000, end_ids:18040000\n"
     ]
    },
    {
     "name": "stderr",
     "output_type": "stream",
     "text": [
      "Feature Extraction: 100%|██████████| 59/59 [00:55<00:00,  1.05it/s]\n"
     ]
    },
    {
     "name": "stdout",
     "output_type": "stream",
     "text": [
      "start_ids:18040000, end_ids:18450000\n"
     ]
    },
    {
     "name": "stderr",
     "output_type": "stream",
     "text": [
      "Feature Extraction: 100%|██████████| 59/59 [00:55<00:00,  1.06it/s]\n"
     ]
    },
    {
     "name": "stdout",
     "output_type": "stream",
     "text": [
      "start_ids:18450000, end_ids:18860000\n"
     ]
    },
    {
     "name": "stderr",
     "output_type": "stream",
     "text": [
      "Feature Extraction: 100%|██████████| 59/59 [00:58<00:00,  2.31it/s]\n"
     ]
    },
    {
     "name": "stdout",
     "output_type": "stream",
     "text": [
      "start_ids:18860000, end_ids:19270000\n"
     ]
    },
    {
     "name": "stderr",
     "output_type": "stream",
     "text": [
      "Feature Extraction: 100%|██████████| 59/59 [01:05<00:00,  1.71it/s]\n"
     ]
    },
    {
     "name": "stdout",
     "output_type": "stream",
     "text": [
      "start_ids:19270000, end_ids:19680000\n"
     ]
    },
    {
     "name": "stderr",
     "output_type": "stream",
     "text": [
      "Feature Extraction: 100%|██████████| 59/59 [00:57<00:00,  1.02it/s]\n"
     ]
    },
    {
     "name": "stdout",
     "output_type": "stream",
     "text": [
      "start_ids:19680000, end_ids:20090000\n"
     ]
    },
    {
     "name": "stderr",
     "output_type": "stream",
     "text": [
      "Feature Extraction: 100%|██████████| 59/59 [00:57<00:00,  1.02it/s]\n"
     ]
    },
    {
     "name": "stdout",
     "output_type": "stream",
     "text": [
      "start_ids:20090000, end_ids:20500000\n"
     ]
    },
    {
     "name": "stderr",
     "output_type": "stream",
     "text": [
      "Feature Extraction: 100%|██████████| 59/59 [00:59<00:00,  3.38it/s]\n"
     ]
    }
   ],
   "source": [
    "features_train = pd.DataFrame()\n",
    "for i in range(0, X_train_m.shape[0], batch_size * sample_len):\n",
    "    start_ids = i\n",
    "    end_ids = start_ids + batch_size * sample_len\n",
    "    print('start_ids:{}, end_ids:{}'.format(start_ids, end_ids))\n",
    "\n",
    "    temp_df = X_train_m.iloc[start_ids:end_ids]\n",
    "\n",
    "    temp_df = extract_features(temp_df, column_id='id', column_sort='time',\n",
    "                     default_fc_parameters=extraction_settings,\n",
    "                     # we impute = remove all NaN features automatically\n",
    "                     impute_function=impute)\n",
    "    features_train = features_train.append(temp_df)\n",
    "    del temp_df\n",
    "    gc.collect()"
   ]
  },
  {
   "cell_type": "code",
   "execution_count": null,
   "metadata": {},
   "outputs": [],
   "source": [
    "with open('./work/features/features_train.pkl', 'wb') as file:\n",
    "    pickle.dump(features_train, file) "
   ]
  },
  {
   "cell_type": "code",
   "execution_count": null,
   "metadata": {},
   "outputs": [
    {
     "name": "stderr",
     "output_type": "stream",
     "text": [
      "Feature Extraction: 100%|██████████| 59/59 [01:01<00:00,  1.04s/it]\n",
      "Feature Extraction: 100%|██████████| 59/59 [00:58<00:00,  2.31it/s]\n",
      "Feature Extraction: 100%|██████████| 59/59 [00:57<00:00,  2.89it/s]\n",
      "Feature Extraction: 100%|██████████| 59/59 [00:57<00:00,  2.97it/s]\n",
      "Feature Extraction: 100%|██████████| 59/59 [01:00<00:00,  2.01it/s]\n",
      "Feature Extraction: 100%|██████████| 59/59 [00:59<00:00,  1.97it/s]\n",
      "Feature Extraction: 100%|██████████| 59/59 [00:59<00:00,  3.08it/s]\n",
      "Feature Extraction: 100%|██████████| 59/59 [00:58<00:00,  2.69it/s]\n",
      "Feature Extraction: 100%|██████████| 59/59 [01:02<00:00,  1.05s/it]\n",
      "Feature Extraction: 100%|██████████| 59/59 [00:58<00:00,  2.15it/s]\n"
     ]
    }
   ],
   "source": [
    "features_test = pd.DataFrame()\n",
    "for i in range(0, X_test_m.shape[0], batch_size * sample_len):\n",
    "    start_ids = i\n",
    "    end_ids = start_ids + batch_size * sample_len\n",
    "\n",
    "    temp_df = X_test_m.iloc[start_ids:end_ids]\n",
    "\n",
    "    temp_df = extract_features(temp_df, column_id='id', column_sort='time',\n",
    "                     default_fc_parameters=extraction_settings,\n",
    "                     # we impute = remove all NaN features automatically\n",
    "                     impute_function=impute)\n",
    "    features_test = features_test.append(temp_df)\n",
    "    del temp_df\n",
    "    gc.collect()"
   ]
  },
  {
   "cell_type": "code",
   "execution_count": null,
   "metadata": {},
   "outputs": [],
   "source": [
    "with open('./work/features/features_test.pkl', 'wb') as file:\n",
    "    pickle.dump(features_test, file) "
   ]
  },
  {
   "cell_type": "code",
   "execution_count": null,
   "metadata": {},
   "outputs": [],
   "source": [
    "# with open('./work/features/features_train.pkl', 'rb') as file:\n",
    "#     features_train = pickle.load(file) \n",
    "\n",
    "# with open('./work/features/features_test.pkl', 'rb') as file:\n",
    "#     features_test = pickle.load(file) "
   ]
  },
  {
   "cell_type": "code",
   "execution_count": null,
   "metadata": {},
   "outputs": [],
   "source": [
    "X_train_filtered = select_features(features_train, y_train)"
   ]
  },
  {
   "cell_type": "code",
   "execution_count": null,
   "metadata": {},
   "outputs": [],
   "source": [
    "X_test_filtered = features_test[X_train_filtered.columns]"
   ]
  },
  {
   "cell_type": "code",
   "execution_count": null,
   "metadata": {},
   "outputs": [],
   "source": [
    "X_train.set_index('id', inplace=True)\n",
    "X_test.set_index('id', inplace=True)"
   ]
  },
  {
   "cell_type": "code",
   "execution_count": null,
   "metadata": {},
   "outputs": [],
   "source": [
    "X_train = pd.merge(X_train, X_train_filtered, left_index=True, right_index=True)\n",
    "X_test = pd.merge(X_test, X_test_filtered, left_index=True, right_index=True)"
   ]
  },
  {
   "cell_type": "code",
   "execution_count": null,
   "metadata": {},
   "outputs": [
    {
     "data": {
      "text/plain": [
       "16219"
      ]
     },
     "execution_count": null,
     "metadata": {},
     "output_type": "execute_result"
    }
   ],
   "source": [
    "del X_train_filtered, X_test_filtered, features_train, features_test, data\n",
    "gc.collect()"
   ]
  },
  {
   "cell_type": "markdown",
   "metadata": {},
   "source": [
    "### 使用XGBoost训练"
   ]
  },
  {
   "cell_type": "code",
   "execution_count": null,
   "metadata": {},
   "outputs": [],
   "source": [
    "import xgboost as xgb"
   ]
  },
  {
   "cell_type": "code",
   "execution_count": 21,
   "metadata": {},
   "outputs": [],
   "source": [
    "model_xgb = xgb.XGBClassifier(\n",
    "            max_depth=6, learning_rate=0.01, n_estimators=2500, \n",
    "            objective='multi:softprob', tree_method='gpu_hist', \n",
    "            num_class=4,\n",
    "            subsample=0.8, colsample_bytree=0.8, \n",
    "            min_child_samples=3, eval_metric=['auc', 'mae', 'merror', 'mlogloss'], reg_lambda=0.5,\n",
    "            seed=2022\n",
    "        )"
   ]
  },
  {
   "cell_type": "code",
   "execution_count": 22,
   "metadata": {},
   "outputs": [
    {
     "name": "stdout",
     "output_type": "stream",
     "text": [
      "[00:12:15] WARNING: ../src/learner.cc:541: \n",
      "Parameters: { min_child_samples } might not be used.\n",
      "\n",
      "  This may not be accurate due to some parameters are only used in language bindings but\n",
      "  passed down to XGBoost core.  Or some parameters are not used but slip through this\n",
      "  verification. Please open an issue if you find above cases.\n",
      "\n",
      "\n"
     ]
    }
   ],
   "source": [
    "model_xgb = model_xgb.fit(X_train, y_train, #eval_set=[(X_train, y_train)],\n",
    "                          verbose=True)"
   ]
  },
  {
   "cell_type": "code",
   "execution_count": 50,
   "metadata": {},
   "outputs": [],
   "source": [
    "y_pred = model_xgb.predict_proba(X_test)"
   ]
  },
  {
   "cell_type": "code",
   "execution_count": 51,
   "metadata": {},
   "outputs": [],
   "source": [
    "y_pred = pd.get_dummies(y_pred.argmax(axis=1)).values"
   ]
  },
  {
   "cell_type": "code",
   "execution_count": 52,
   "metadata": {},
   "outputs": [],
   "source": [
    "submission = pd.DataFrame({'id' : X_test.index,\n",
    "                           'label_0' : y_pred[:, 0],\n",
    "                           'label_1' : y_pred[:, 1],\n",
    "                           'label_2' : y_pred[:, 2],\n",
    "                           'label_3' : y_pred[:, 3],\n",
    "                           })\n",
    "submission.to_csv('./work/sumission/submission_XGB.csv', index = None)"
   ]
  },
  {
   "cell_type": "code",
   "execution_count": null,
   "metadata": {},
   "outputs": [],
   "source": []
  },
  {
   "cell_type": "code",
   "execution_count": null,
   "metadata": {},
   "outputs": [],
   "source": []
  },
  {
   "cell_type": "code",
   "execution_count": null,
   "metadata": {},
   "outputs": [],
   "source": []
  }
 ],
 "metadata": {
  "kernelspec": {
   "display_name": "Python 3 (ipykernel)",
   "language": "python",
   "name": "python3"
  },
  "language_info": {
   "codemirror_mode": {
    "name": "ipython",
    "version": 3
   },
   "file_extension": ".py",
   "mimetype": "text/x-python",
   "name": "python",
   "nbconvert_exporter": "python",
   "pygments_lexer": "ipython3",
   "version": "3.7.11"
  }
 },
 "nbformat": 4,
 "nbformat_minor": 1
}
